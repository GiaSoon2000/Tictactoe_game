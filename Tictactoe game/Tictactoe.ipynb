{
 "cells": [
  {
   "cell_type": "code",
   "execution_count": 2,
   "id": "bcb2d410-c628-4fa8-a5b4-3fbaeb13e44c",
   "metadata": {},
   "outputs": [
    {
     "name": "stdout",
     "output_type": "stream",
     "text": [
      "  |   |  \n",
      "--+---+--\n",
      "  |   |  \n",
      "--+---+--\n",
      "  |   |  \n",
      "Turn for X. Move to which space? (top-l, top-c, top-r, mid-l, mid-c, mid-r, bot-l, bot-c, bot-r)\n"
     ]
    },
    {
     "name": "stdin",
     "output_type": "stream",
     "text": [
      " top-c\n"
     ]
    },
    {
     "name": "stdout",
     "output_type": "stream",
     "text": [
      "  | X |  \n",
      "--+---+--\n",
      "  |   |  \n",
      "--+---+--\n",
      "  |   |  \n",
      "Turn for O. Move to which space? (top-l, top-c, top-r, mid-l, mid-c, mid-r, bot-l, bot-c, bot-r)\n"
     ]
    },
    {
     "name": "stdin",
     "output_type": "stream",
     "text": [
      " top-l\n"
     ]
    },
    {
     "name": "stdout",
     "output_type": "stream",
     "text": [
      "O | X |  \n",
      "--+---+--\n",
      "  |   |  \n",
      "--+---+--\n",
      "  |   |  \n",
      "Turn for X. Move to which space? (top-l, top-c, top-r, mid-l, mid-c, mid-r, bot-l, bot-c, bot-r)\n"
     ]
    },
    {
     "name": "stdin",
     "output_type": "stream",
     "text": [
      " top-r\n"
     ]
    },
    {
     "name": "stdout",
     "output_type": "stream",
     "text": [
      "O | X | X\n",
      "--+---+--\n",
      "  |   |  \n",
      "--+---+--\n",
      "  |   |  \n",
      "Turn for O. Move to which space? (top-l, top-c, top-r, mid-l, mid-c, mid-r, bot-l, bot-c, bot-r)\n"
     ]
    },
    {
     "name": "stdin",
     "output_type": "stream",
     "text": [
      " top-r\n"
     ]
    },
    {
     "name": "stdout",
     "output_type": "stream",
     "text": [
      "Space already taken. Try again.\n",
      "O | X | X\n",
      "--+---+--\n",
      "  |   |  \n",
      "--+---+--\n",
      "  |   |  \n",
      "Turn for O. Move to which space? (top-l, top-c, top-r, mid-l, mid-c, mid-r, bot-l, bot-c, bot-r)\n"
     ]
    },
    {
     "name": "stdin",
     "output_type": "stream",
     "text": [
      " mid-c\n"
     ]
    },
    {
     "name": "stdout",
     "output_type": "stream",
     "text": [
      "O | X | X\n",
      "--+---+--\n",
      "  | O |  \n",
      "--+---+--\n",
      "  |   |  \n",
      "Turn for X. Move to which space? (top-l, top-c, top-r, mid-l, mid-c, mid-r, bot-l, bot-c, bot-r)\n"
     ]
    },
    {
     "name": "stdin",
     "output_type": "stream",
     "text": [
      " bot-c\n"
     ]
    },
    {
     "name": "stdout",
     "output_type": "stream",
     "text": [
      "O | X | X\n",
      "--+---+--\n",
      "  | O |  \n",
      "--+---+--\n",
      "  | X |  \n",
      "Turn for O. Move to which space? (top-l, top-c, top-r, mid-l, mid-c, mid-r, bot-l, bot-c, bot-r)\n"
     ]
    },
    {
     "name": "stdin",
     "output_type": "stream",
     "text": [
      " bot-l\n"
     ]
    },
    {
     "name": "stdout",
     "output_type": "stream",
     "text": [
      "O | X | X\n",
      "--+---+--\n",
      "  | O |  \n",
      "--+---+--\n",
      "O | X |  \n",
      "Turn for X. Move to which space? (top-l, top-c, top-r, mid-l, mid-c, mid-r, bot-l, bot-c, bot-r)\n"
     ]
    },
    {
     "name": "stdin",
     "output_type": "stream",
     "text": [
      " mid-l\n"
     ]
    },
    {
     "name": "stdout",
     "output_type": "stream",
     "text": [
      "O | X | X\n",
      "--+---+--\n",
      "X | O |  \n",
      "--+---+--\n",
      "O | X |  \n",
      "Turn for O. Move to which space? (top-l, top-c, top-r, mid-l, mid-c, mid-r, bot-l, bot-c, bot-r)\n"
     ]
    },
    {
     "name": "stdin",
     "output_type": "stream",
     "text": [
      " bot-r\n"
     ]
    },
    {
     "name": "stdout",
     "output_type": "stream",
     "text": [
      "Congratulations! O won!\n",
      "O | X | X\n",
      "--+---+--\n",
      "X | O |  \n",
      "--+---+--\n",
      "O | X | O\n"
     ]
    }
   ],
   "source": [
    "# Import the TicTacToe class from tictactoe.py\n",
    "from tictactoe import TicTacToe\n",
    "\n",
    "# Start the game\n",
    "game = TicTacToe()\n",
    "game.play()\n"
   ]
  },
  {
   "cell_type": "code",
   "execution_count": null,
   "id": "a81c262d-3142-4ce7-b36c-3b2422573c78",
   "metadata": {},
   "outputs": [],
   "source": []
  }
 ],
 "metadata": {
  "kernelspec": {
   "display_name": "Python 3 (ipykernel)",
   "language": "python",
   "name": "python3"
  },
  "language_info": {
   "codemirror_mode": {
    "name": "ipython",
    "version": 3
   },
   "file_extension": ".py",
   "mimetype": "text/x-python",
   "name": "python",
   "nbconvert_exporter": "python",
   "pygments_lexer": "ipython3",
   "version": "3.11.7"
  }
 },
 "nbformat": 4,
 "nbformat_minor": 5
}
